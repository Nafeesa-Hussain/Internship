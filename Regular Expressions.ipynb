{
 "cells": [
  {
   "cell_type": "markdown",
   "id": "4fb6469c",
   "metadata": {},
   "source": [
    "### Question 1"
   ]
  },
  {
   "cell_type": "code",
   "execution_count": 6,
   "id": "7871b116",
   "metadata": {},
   "outputs": [
    {
     "name": "stdout",
     "output_type": "stream",
     "text": [
      "Enter a string: In a vacuum, the speed of light is approximately 299,792 kilometers per second\n",
      "String contains characters other than alphabets and digits.\n"
     ]
    }
   ],
   "source": [
    "import re\n",
    "\n",
    "def check_string(input_string):\n",
    "    pattern = r'^[a-zA-Z0-9]+$'\n",
    "    \n",
    "    if re.match(pattern, input_string):\n",
    "        print(\"String contains only alphabets and digits.\")\n",
    "    else:\n",
    "        print(\"String contains characters other than alphabets and digits.\")\n",
    "\n",
    "input_str = input(\"Enter a string: \")\n",
    "check_string(input_str)\n"
   ]
  },
  {
   "cell_type": "markdown",
   "id": "4216c93f",
   "metadata": {},
   "source": [
    "### Question 2"
   ]
  },
  {
   "cell_type": "code",
   "execution_count": 9,
   "id": "0d747b98",
   "metadata": {},
   "outputs": [
    {
     "name": "stdout",
     "output_type": "stream",
     "text": [
      "Enter a string: abb\n",
      "String matches the pattern.\n"
     ]
    }
   ],
   "source": [
    "import re\n",
    "\n",
    "def match_string(input_string):\n",
    "    pattern = r'^ab*$'\n",
    "\n",
    "    if re.match(pattern, input_string):\n",
    "        print(\"String matches the pattern.\")\n",
    "    else:\n",
    "        print(\"String does not match the pattern.\")\n",
    "\n",
    "input_str = input(\"Enter a string: \")\n",
    "match_string(input_str)"
   ]
  },
  {
   "cell_type": "markdown",
   "id": "dfe00517",
   "metadata": {},
   "source": [
    "### Question 3"
   ]
  },
  {
   "cell_type": "code",
   "execution_count": 10,
   "id": "8420e1f8",
   "metadata": {},
   "outputs": [
    {
     "name": "stdout",
     "output_type": "stream",
     "text": [
      "Enter a string: abc\n",
      "String does not match the pattern.\n"
     ]
    }
   ],
   "source": [
    "import re\n",
    "\n",
    "def match_string(input_string):\n",
    "    pattern = r'^ab+$'\n",
    "\n",
    "    if re.match(pattern, input_string):\n",
    "        print(\"String matches the pattern.\")\n",
    "    else:\n",
    "        print(\"String does not match the pattern.\")\n",
    "\n",
    "input_str = input(\"Enter a string: \")\n",
    "match_string(input_str)"
   ]
  },
  {
   "cell_type": "markdown",
   "id": "9bfea832",
   "metadata": {},
   "source": [
    "### Question 4"
   ]
  },
  {
   "cell_type": "code",
   "execution_count": 11,
   "id": "ee22cee8",
   "metadata": {},
   "outputs": [
    {
     "name": "stdout",
     "output_type": "stream",
     "text": [
      "Enter a string: a\n",
      "String matches the pattern.\n"
     ]
    }
   ],
   "source": [
    "import re\n",
    "\n",
    "def match_string(input_string):\n",
    "    pattern = r'^ab?$'\n",
    "\n",
    "    if re.match(pattern, input_string):\n",
    "        print(\"String matches the pattern.\")\n",
    "    else:\n",
    "        print(\"String does not match the pattern.\")\n",
    "\n",
    "input_str = input(\"Enter a string: \")\n",
    "match_string(input_str)"
   ]
  },
  {
   "cell_type": "markdown",
   "id": "9deebee8",
   "metadata": {},
   "source": [
    "### Question 5"
   ]
  },
  {
   "cell_type": "code",
   "execution_count": 13,
   "id": "ec4a4cb2",
   "metadata": {},
   "outputs": [
    {
     "name": "stdout",
     "output_type": "stream",
     "text": [
      "Enter a string: abbba\n",
      "String does not match the pattern.\n"
     ]
    }
   ],
   "source": [
    "import re\n",
    "\n",
    "def match_string(input_string):\n",
    "    pattern = r'^abbb$'\n",
    "\n",
    "    if re.match(pattern, input_string):\n",
    "        print(\"String matches the pattern.\")\n",
    "    else:\n",
    "        print(\"String does not match the pattern.\")\n",
    "\n",
    "input_str = input(\"Enter a string: \")\n",
    "match_string(input_str)"
   ]
  },
  {
   "cell_type": "markdown",
   "id": "cc967b7c",
   "metadata": {},
   "source": [
    "### Question 6"
   ]
  },
  {
   "cell_type": "code",
   "execution_count": 19,
   "id": "6fdf990e",
   "metadata": {},
   "outputs": [
    {
     "name": "stdout",
     "output_type": "stream",
     "text": [
      "['Water', 'Integrator', 'Is', 'A', 'Computer', 'That', 'Runs', 'On', 'Water']\n"
     ]
    }
   ],
   "source": [
    "import re\n",
    "\n",
    "def split_uppercase(string):\n",
    "    pattern = r'[A-Z][a-z]*'\n",
    "    uppercase_words = re.findall(pattern, string)\n",
    "    return uppercase_words\n",
    "\n",
    "sample = \"Water Integrator Is A Computer That Runs On Water\"\n",
    "result = split_uppercase(sample)\n",
    "print(result)"
   ]
  },
  {
   "cell_type": "markdown",
   "id": "07c47313",
   "metadata": {},
   "source": [
    "### Question 7"
   ]
  },
  {
   "cell_type": "code",
   "execution_count": 21,
   "id": "cb1792b7",
   "metadata": {},
   "outputs": [
    {
     "name": "stdout",
     "output_type": "stream",
     "text": [
      "Enter a string: abbbb\n",
      "String does not match the pattern.\n"
     ]
    }
   ],
   "source": [
    "import re\n",
    "\n",
    "def match_string(input_string):\n",
    "    pattern = r'^ab{2,3}$'\n",
    "\n",
    "    if re.match(pattern, input_string):\n",
    "        print(\"String matches the pattern.\")\n",
    "    else:\n",
    "        print(\"String does not match the pattern.\")\n",
    "\n",
    "input_str = input(\"Enter a string: \")\n",
    "match_string(input_str)"
   ]
  },
  {
   "cell_type": "markdown",
   "id": "ebd6f11a",
   "metadata": {},
   "source": [
    "### Question 8"
   ]
  },
  {
   "cell_type": "code",
   "execution_count": 22,
   "id": "5d56b42e",
   "metadata": {},
   "outputs": [
    {
     "name": "stdout",
     "output_type": "stream",
     "text": [
      "Sequences of lowercase letters joined with an underscore:\n",
      "['python_programming', 'is_fun', 'with_regex']\n"
     ]
    }
   ],
   "source": [
    "import re\n",
    "\n",
    "def find_lowercase_with_underscore(input_text):\n",
    "    pattern = r'[a-z]+_[a-z]+'\n",
    "    matches = re.findall(pattern, input_text)\n",
    "    return matches\n",
    "\n",
    "sample_text = \"python_programming is_fun_with_regex\"\n",
    "result = find_lowercase_with_underscore(sample_text)\n",
    "print(\"Sequences of lowercase letters joined with an underscore:\")\n",
    "print(result)"
   ]
  },
  {
   "cell_type": "markdown",
   "id": "ce6ba460",
   "metadata": {},
   "source": [
    "### Question 9"
   ]
  },
  {
   "cell_type": "code",
   "execution_count": 23,
   "id": "d8a6b1da",
   "metadata": {},
   "outputs": [
    {
     "name": "stdout",
     "output_type": "stream",
     "text": [
      "Enter a string: afcgtyb\n",
      "String matches the pattern.\n"
     ]
    }
   ],
   "source": [
    "import re\n",
    "\n",
    "def match_string(input_string):\n",
    "    pattern = r'^a.*b$'\n",
    "\n",
    "    if re.match(pattern, input_string):\n",
    "        print(\"String matches the pattern.\")\n",
    "    else:\n",
    "        print(\"String does not match the pattern.\")\n",
    "\n",
    "input_str = input(\"Enter a string: \")\n",
    "match_string(input_str)"
   ]
  },
  {
   "cell_type": "markdown",
   "id": "9ddfa76d",
   "metadata": {},
   "source": [
    "### Question 10"
   ]
  },
  {
   "cell_type": "code",
   "execution_count": 26,
   "id": "af9cbd80",
   "metadata": {},
   "outputs": [
    {
     "name": "stdout",
     "output_type": "stream",
     "text": [
      "Enter a string: Hi, how have you been?\n",
      "Enter the word to match: hi\n",
      "Word does not match at the beginning of the string.\n"
     ]
    }
   ],
   "source": [
    "import re\n",
    "\n",
    "def match_word_at_beginning(input_string, word):\n",
    "    pattern = r'^' + word\n",
    "\n",
    "    if re.match(pattern, input_string):\n",
    "        print(\"Word matches at the beginning of the string.\")\n",
    "    else:\n",
    "        print(\"Word does not match at the beginning of the string.\")\n",
    "\n",
    "input_str = input(\"Enter a string: \")\n",
    "word_to_match = input(\"Enter the word to match: \")\n",
    "match_word_at_beginning(input_str, word_to_match)"
   ]
  },
  {
   "cell_type": "markdown",
   "id": "41f40e69",
   "metadata": {},
   "source": [
    "### Question 11"
   ]
  },
  {
   "cell_type": "code",
   "execution_count": 27,
   "id": "ca6568df",
   "metadata": {},
   "outputs": [
    {
     "name": "stdout",
     "output_type": "stream",
     "text": [
      "Enter a string: special#characters\n",
      "String contains characters other than upper and lowercase letters, numbers, and underscores.\n"
     ]
    }
   ],
   "source": [
    "import re\n",
    "\n",
    "def match_string(input_string):\n",
    "    pattern = r'^[a-zA-Z0-9_]+$'\n",
    "\n",
    "    if re.match(pattern, input_string):\n",
    "        print(\"String contains only upper and lowercase letters, numbers, and underscores.\")\n",
    "    else:\n",
    "        print(\"String contains characters other than upper and lowercase letters, numbers, and underscores.\")\n",
    "\n",
    "input_str = input(\"Enter a string: \")\n",
    "match_string(input_str)"
   ]
  },
  {
   "cell_type": "markdown",
   "id": "a50ba818",
   "metadata": {},
   "source": [
    "### Question 12"
   ]
  },
  {
   "cell_type": "code",
   "execution_count": 29,
   "id": "6e0eac5f",
   "metadata": {},
   "outputs": [
    {
     "name": "stdout",
     "output_type": "stream",
     "text": [
      "Enter a string: 745Awesome\n",
      "Enter the specific number: 753\n",
      "String does not start with the specified number.\n"
     ]
    }
   ],
   "source": [
    "def starts_with_number(input_string, number):\n",
    "    if input_string.startswith(str(number)):\n",
    "        print(\"String starts with the specified number.\")\n",
    "    else:\n",
    "        print(\"String does not start with the specified number.\")\n",
    "\n",
    "input_str = input(\"Enter a string: \")\n",
    "specific_number = input(\"Enter the specific number: \")\n",
    "\n",
    "try:\n",
    "    specific_number = int(specific_number)\n",
    "    starts_with_number(input_str, specific_number)\n",
    "except ValueError:\n",
    "    print(\"Invalid input for specific number. Please enter an integer.\")"
   ]
  },
  {
   "cell_type": "markdown",
   "id": "a6a899f6",
   "metadata": {},
   "source": [
    "### Question 13"
   ]
  },
  {
   "cell_type": "code",
   "execution_count": 30,
   "id": "6d938ec6",
   "metadata": {},
   "outputs": [
    {
     "name": "stdout",
     "output_type": "stream",
     "text": [
      "Enter an IP address: 010.020.030.040\n",
      "IP address without leading zeros: 10.20.30.40\n"
     ]
    }
   ],
   "source": [
    "def remove_leading_zeros(ip_address):\n",
    "    octets = ip_address.split('.')\n",
    "\n",
    "    for i in range(len(octets)):\n",
    "        octets[i] = str(int(octets[i]))\n",
    "\n",
    "    result_ip = '.'.join(octets)\n",
    "    return result_ip\n",
    "\n",
    "input_ip = input(\"Enter an IP address: \")\n",
    "result = remove_leading_zeros(input_ip)\n",
    "print(\"IP address without leading zeros:\", result)"
   ]
  },
  {
   "cell_type": "markdown",
   "id": "8e9f24a6",
   "metadata": {},
   "source": [
    "### Question 14"
   ]
  },
  {
   "cell_type": "code",
   "execution_count": 36,
   "id": "673a0381",
   "metadata": {},
   "outputs": [
    {
     "name": "stdout",
     "output_type": "stream",
     "text": [
      "Date not found in the text.\n"
     ]
    }
   ],
   "source": [
    "import re\n",
    "\n",
    "def find_date_in_text(text):\n",
    "    pattern = r'\\b(?:January|February|March|April|May|June|July|August|September|October|November|December)\\s+\\d{1,2}(?:st|nd|rd|th)?\\s+\\d{4}\\b'\n",
    "\n",
    "    match = re.match(pattern, text)\n",
    "    if match:\n",
    "        return match.group()\n",
    "    else:\n",
    "        return None\n",
    "\n",
    "with open('/Users/nafeesahussain/Desktop/FlipRobo_Internship/sample_text.rtf', 'r') as file:\n",
    "    text = file.read()\n",
    "\n",
    "result = find_date_in_text(text)\n",
    "\n",
    "if result:\n",
    "    print(\"Output:\", result)\n",
    "else:\n",
    "    print(\"Date not found in the text.\")\n"
   ]
  },
  {
   "cell_type": "markdown",
   "id": "8438771b",
   "metadata": {},
   "source": [
    "### Question 15"
   ]
  },
  {
   "cell_type": "code",
   "execution_count": 40,
   "id": "bb4a99a7",
   "metadata": {},
   "outputs": [
    {
     "name": "stdout",
     "output_type": "stream",
     "text": [
      "Words found in the text: ['code', 'whitespaces']\n"
     ]
    }
   ],
   "source": [
    "def word_search(text, words_to_search):\n",
    "    found_words = [word for word in words_to_search if word in text]\n",
    "    return found_words\n",
    "\n",
    "sample = 'You can code programs using just whitespaces.'\n",
    "\n",
    "searched_words = ['code', 'errors', 'whitespaces']\n",
    "\n",
    "found_words = search_words_in_text(sample, searched_words)\n",
    "\n",
    "print(\"Words found in the text:\", found_words)"
   ]
  },
  {
   "cell_type": "markdown",
   "id": "d292aa34",
   "metadata": {},
   "source": [
    "### Question 16"
   ]
  },
  {
   "cell_type": "code",
   "execution_count": 42,
   "id": "e1ca7aae",
   "metadata": {},
   "outputs": [
    {
     "name": "stdout",
     "output_type": "stream",
     "text": [
      "Word found at the following locations:\n",
      "Start: 16, End: 19, Matched Word: fox\n"
     ]
    }
   ],
   "source": [
    "import re\n",
    "\n",
    "def word_search(text, word):\n",
    "    pattern = re.escape(word)\n",
    "    matches = re.finditer(pattern, text)\n",
    "\n",
    "    locations = []\n",
    "    for match in matches:\n",
    "        start = match.start()\n",
    "        end = match.end()\n",
    "        locations.append((start, end))\n",
    "\n",
    "    return locations\n",
    "\n",
    "sample_text = 'The quick brown fox jumps over the lazy dog.'\n",
    "\n",
    "searched_word = 'fox'\n",
    "\n",
    "found_locations = word_search(sample_text, searched_word)\n",
    "\n",
    "print(\"Word found at the following locations:\")\n",
    "for start, end in found_locations:\n",
    "    print(f\"Start: {start}, End: {end}, Matched Word: {sample_text[start:end]}\")\n"
   ]
  },
  {
   "cell_type": "markdown",
   "id": "b6263c5a",
   "metadata": {},
   "source": [
    "### Question 17"
   ]
  },
  {
   "cell_type": "code",
   "execution_count": 43,
   "id": "735641b4",
   "metadata": {},
   "outputs": [
    {
     "name": "stdout",
     "output_type": "stream",
     "text": [
      "Substrings found in the text:\n",
      "['exercises', 'exercises', 'exercises']\n"
     ]
    }
   ],
   "source": [
    "import re\n",
    "\n",
    "def substrings_in_text(text, pattern):\n",
    "    matches = re.finditer(pattern, text)\n",
    "\n",
    "    substrings = []\n",
    "    for match in matches:\n",
    "        start = match.start()\n",
    "        end = match.end()\n",
    "        substrings.append(text[start:end])\n",
    "\n",
    "    return substrings\n",
    "\n",
    "sample_text = 'Python exercises, PHP exercises, C# exercises'\n",
    "\n",
    "pattern = 'exercises'\n",
    "\n",
    "found_substrings = substrings_in_text(sample_text, pattern)\n",
    "\n",
    "print(\"Substrings found in the text:\")\n",
    "print(found_substrings)"
   ]
  },
  {
   "cell_type": "markdown",
   "id": "e8b1d768",
   "metadata": {},
   "source": [
    "### Question 18"
   ]
  },
  {
   "cell_type": "code",
   "execution_count": 45,
   "id": "35cf23a3",
   "metadata": {},
   "outputs": [
    {
     "name": "stdout",
     "output_type": "stream",
     "text": [
      "Occurrences and positions of the substring:\n",
      "Occurrence 1: Start: 7, End: 16, Substring: 'exercises'\n",
      "Occurrence 2: Start: 22, End: 31, Substring: 'exercises'\n",
      "Occurrence 3: Start: 36, End: 45, Substring: 'exercises'\n"
     ]
    }
   ],
   "source": [
    "def find_substring(text, substring):\n",
    "    occurrences = []\n",
    "    start_pos = 0\n",
    "\n",
    "    while True:\n",
    "        pos = text.find(substring, start_pos)\n",
    "        if pos == -1:\n",
    "            break\n",
    "        occurrences.append((pos, pos + len(substring)))\n",
    "        start_pos = pos + 1\n",
    "\n",
    "    return occurrences\n",
    "\n",
    "sample_text = 'Python exercises, PHP exercises, C# exercises'\n",
    "\n",
    "substring = 'exercises'\n",
    "\n",
    "found_occurrences = find_substring(sample_text, substring)\n",
    "\n",
    "print(\"Occurrences and positions of the substring:\")\n",
    "for idx, occurrence in enumerate(found_occurrences, start=1):\n",
    "    start, end = occurrence\n",
    "    print(f\"Occurrence {idx}: Start: {start}, End: {end}, Substring: '{sample_text[start:end]}'\")"
   ]
  },
  {
   "cell_type": "markdown",
   "id": "73451d3e",
   "metadata": {},
   "source": [
    "### Question 19"
   ]
  },
  {
   "cell_type": "code",
   "execution_count": 46,
   "id": "424ddb3a",
   "metadata": {},
   "outputs": [
    {
     "name": "stdout",
     "output_type": "stream",
     "text": [
      "Enter date in yyyy-mm-dd format: 1999-05-29\n",
      "Converted date: 29-05-1999\n"
     ]
    }
   ],
   "source": [
    "from datetime import datetime\n",
    "\n",
    "def convert_date_format(input_date):\n",
    "    try:\n",
    "       \n",
    "        date_object = datetime.strptime(input_date, \"%Y-%m-%d\")\n",
    "\n",
    "        output_date = date_object.strftime(\"%d-%m-%Y\")\n",
    "\n",
    "        return output_date\n",
    "    except ValueError:\n",
    "        return \"Invalid date format. Please provide date in yyyy-mm-dd format.\"\n",
    "\n",
    "input_date = input(\"Enter date in yyyy-mm-dd format: \")\n",
    "converted_date = convert_date_format(input_date)\n",
    "print(\"Converted date:\", converted_date)"
   ]
  },
  {
   "cell_type": "markdown",
   "id": "181b7ef3",
   "metadata": {},
   "source": [
    "### Question 20"
   ]
  },
  {
   "cell_type": "code",
   "execution_count": 48,
   "id": "ed8ad992",
   "metadata": {},
   "outputs": [
    {
     "name": "stdout",
     "output_type": "stream",
     "text": [
      "Words starting with 'a' or 'e':\n",
      "['ever']\n"
     ]
    }
   ],
   "source": [
    "import re\n",
    "\n",
    "def words_starting_with_a_or_e(input_string):\n",
    "    pattern = r'\\b[aAeE]\\w+\\b'\n",
    "    words = re.findall(pattern, input_string)\n",
    "    return words\n",
    "\n",
    "input_str = \"The first-ever VCR was the size of a piano.\"\n",
    "result = words_starting_with_a_or_e(input_str)\n",
    "print(\"Words starting with 'a' or 'e':\")\n",
    "print(result)"
   ]
  },
  {
   "cell_type": "markdown",
   "id": "f2ac7765",
   "metadata": {},
   "source": [
    "### Question 21"
   ]
  },
  {
   "cell_type": "code",
   "execution_count": 49,
   "id": "f113dde4",
   "metadata": {},
   "outputs": [
    {
     "name": "stdout",
     "output_type": "stream",
     "text": [
      "Enter a string: Samsung is 38 years and 1 month older than Apple.\n",
      "Numbers found in the string:\n",
      "Number: 38, Position: 11\n",
      "Number: 1, Position: 24\n"
     ]
    }
   ],
   "source": [
    "import re\n",
    "\n",
    "def separate_num_and_pos(input_string):\n",
    "    pattern = r'\\d+'\n",
    "    numbers = re.findall(pattern, input_string)\n",
    "    positions = [match.start() for match in re.finditer(pattern, input_string)]\n",
    "    return numbers, positions\n",
    "\n",
    "input_str = input(\"Enter a string: \")\n",
    "result_numbers, result_positions = separate_num_and_pos(input_str)\n",
    "\n",
    "print(\"Numbers found in the string:\")\n",
    "for number, position in zip(result_numbers, result_positions):\n",
    "    print(f\"Number: {number}, Position: {position}\")"
   ]
  },
  {
   "cell_type": "markdown",
   "id": "2e744002",
   "metadata": {},
   "source": [
    "### Question 22"
   ]
  },
  {
   "cell_type": "code",
   "execution_count": 52,
   "id": "53f900f7",
   "metadata": {},
   "outputs": [
    {
     "name": "stdout",
     "output_type": "stream",
     "text": [
      "Maximum numeric value: 25\n"
     ]
    }
   ],
   "source": [
    "import re\n",
    "\n",
    "def extract_max_numeric_value(input_string):\n",
    "    numbers = re.findall(r'\\b\\d+\\b', input_string)\n",
    "    if numbers:\n",
    "        max_number = max(map(int, numbers))\n",
    "        return max_number\n",
    "    else:\n",
    "        return None\n",
    "\n",
    "input_str = \"The numbers are 10, 25, 5, and 10.\"\n",
    "result = extract_max_numeric_value(input_str)\n",
    "if result is not None:\n",
    "    print(\"Maximum numeric value:\", result)\n",
    "else:\n",
    "    print(\"No numeric value found in the string.\")"
   ]
  },
  {
   "cell_type": "markdown",
   "id": "bec990d9",
   "metadata": {},
   "source": [
    "### Question 23"
   ]
  },
  {
   "cell_type": "code",
   "execution_count": 53,
   "id": "7d5754bf",
   "metadata": {},
   "outputs": [
    {
     "name": "stdout",
     "output_type": "stream",
     "text": [
      "Modified string: Megabytes Used To Weigh Hundreds Of Pounds.\n"
     ]
    }
   ],
   "source": [
    "import re\n",
    "\n",
    "def add_spaces_to_capital_words(input_string):\n",
    "    pattern = r'(?<!^)(?=[A-Z])'\n",
    "    result = re.sub(pattern, ' ', input_string)\n",
    "    return result\n",
    "\n",
    "input_str = \"MegabytesUsedToWeighHundredsOfPounds.\"\n",
    "result = add_spaces_to_capital_words(input_str)\n",
    "print(\"Modified string:\", result)"
   ]
  },
  {
   "cell_type": "markdown",
   "id": "278faa56",
   "metadata": {},
   "source": [
    "### Question 24"
   ]
  },
  {
   "cell_type": "code",
   "execution_count": 54,
   "id": "21153461",
   "metadata": {},
   "outputs": [
    {
     "name": "stdout",
     "output_type": "stream",
     "text": [
      "Sequences of one uppercase letter followed by lowercase letters:\n",
      "['The', 'First', 'Camera', 'Needed', 'An', 'Incredibly', 'Long', 'Exposure']\n"
     ]
    }
   ],
   "source": [
    "import re\n",
    "\n",
    "def uppercase_followed_by_lowercase(input_string):\n",
    "    pattern = r'[A-Z][a-z]+'\n",
    "    sequences = re.findall(pattern, input_string)\n",
    "    return sequences\n",
    "\n",
    "input_str = \"TheFirstCameraNeededAnIncrediblyLongExposure.\"\n",
    "result = uppercase_followed_by_lowercase(input_str)\n",
    "print(\"Sequences of one uppercase letter followed by lowercase letters:\")\n",
    "print(result)\n"
   ]
  },
  {
   "cell_type": "markdown",
   "id": "9c6bd97b",
   "metadata": {},
   "source": [
    "### Question 25"
   ]
  },
  {
   "cell_type": "code",
   "execution_count": 60,
   "id": "fb28fb4c",
   "metadata": {},
   "outputs": [
    {
     "name": "stdout",
     "output_type": "stream",
     "text": [
      "Modified sentence: The Radio took 38 years to reach an audience of 50 million\n"
     ]
    }
   ],
   "source": [
    "import re\n",
    "\n",
    "def remove_duplicates(input_sentence):\n",
    "    pattern = r'\\b(\\w+)(\\s+\\1\\b)+'\n",
    "    result = re.sub(pattern, r'\\1', input_sentence)\n",
    "    return result\n",
    "\n",
    "input_sentence = \"The Radio took 38 years to to reach an audience of of 50 million\"\n",
    "result = remove_duplicates(input_sentence)\n",
    "print(\"Modified sentence:\", result)"
   ]
  },
  {
   "cell_type": "markdown",
   "id": "33676157",
   "metadata": {},
   "source": [
    "### Question 26"
   ]
  },
  {
   "cell_type": "code",
   "execution_count": 63,
   "id": "f4f38aa4",
   "metadata": {},
   "outputs": [
    {
     "name": "stdout",
     "output_type": "stream",
     "text": [
      "Enter a string: string 555\n",
      "String accepted.\n"
     ]
    }
   ],
   "source": [
    "import re\n",
    "\n",
    "def alphanumeric(input_string):\n",
    "    pattern = r'^.*[a-zA-Z0-9]$'\n",
    "    match = re.match(pattern, input_string)\n",
    "    return match is not None\n",
    "\n",
    "input_str = input(\"Enter a string: \")\n",
    "is_accepted = alphanumeric(input_str)\n",
    "if is_accepted:\n",
    "    print(\"String accepted.\")\n",
    "else:\n",
    "    print(\"String not accepted.\")\n"
   ]
  },
  {
   "cell_type": "markdown",
   "id": "ab1e7154",
   "metadata": {},
   "source": [
    "### Question 27"
   ]
  },
  {
   "cell_type": "code",
   "execution_count": 64,
   "id": "07b99468",
   "metadata": {},
   "outputs": [
    {
     "name": "stdout",
     "output_type": "stream",
     "text": [
      "Extracted hashtags:\n",
      "['#Doltiwal', '#xyzabc', '#Demonetization']\n"
     ]
    }
   ],
   "source": [
    "import re\n",
    "\n",
    "def extracting_hashtags(text):\n",
    "    pattern = r'#\\w+'\n",
    "    hashtags = re.findall(pattern, text)\n",
    "    return hashtags\n",
    "\n",
    "text = \"\"\"RT @kapil_kausik: #Doltiwal I mean #xyzabc is \"hurt\" by #Demonetization as the same has rendered USELESS <ed><U+00A0><U+00BD><ed><U+00B1><U+0089> \"acquired funds\" No wo\"\"\"\n",
    "\n",
    "hashtags_list = extracting_hashtags(text)\n",
    "\n",
    "print(\"Extracted hashtags:\")\n",
    "print(hashtags_list)"
   ]
  },
  {
   "cell_type": "markdown",
   "id": "677ed32f",
   "metadata": {},
   "source": [
    "### Question 28"
   ]
  },
  {
   "cell_type": "code",
   "execution_count": 65,
   "id": "6355dee6",
   "metadata": {},
   "outputs": [
    {
     "name": "stdout",
     "output_type": "stream",
     "text": [
      "Cleaned Text:\n",
      "@Jags123456 Bharat band on 28??<ed><ed>Those who are protesting #demonetization are all different party leaders\n"
     ]
    }
   ],
   "source": [
    "import re\n",
    "\n",
    "def remove_u_plus_symbols(text):\n",
    "    pattern = r'<U\\+[\\da-zA-Z]{4}>'\n",
    "    cleaned_text = re.sub(pattern, '', text)\n",
    "    return cleaned_text\n",
    "\n",
    "text = \"@Jags123456 Bharat band on 28??<ed><U+00A0><U+00BD><ed><U+00B8><U+0082>Those who are protesting #demonetization are all different party leaders\"\n",
    "\n",
    "cleaned_text = remove_u_plus_symbols(text)\n",
    "\n",
    "print(\"Cleaned Text:\")\n",
    "print(cleaned_text)"
   ]
  },
  {
   "cell_type": "markdown",
   "id": "d8bf8d84",
   "metadata": {},
   "source": [
    "### Question 29"
   ]
  },
  {
   "cell_type": "code",
   "execution_count": 66,
   "id": "5886bc1a",
   "metadata": {},
   "outputs": [
    {
     "name": "stdout",
     "output_type": "stream",
     "text": [
      "Extracted dates:\n",
      "['12-09-1992', '15-12-1999']\n"
     ]
    }
   ],
   "source": [
    "import re\n",
    "\n",
    "def extract_dates_from_text(text):\n",
    "    pattern = r'\\b\\d{2}-\\d{2}-\\d{4}\\b'\n",
    "    dates = re.findall(pattern, text)\n",
    "    return dates\n",
    "\n",
    "sample_text = \"Ron was born on 12-09-1992 and he was admitted to school 15-12-1999.\"\n",
    "\n",
    "with open('sample.txt', 'w') as file:\n",
    "    file.write(sample_text)\n",
    "\n",
    "with open('sample.txt', 'r') as file:\n",
    "    text_from_file = file.read()\n",
    "\n",
    "dates_list = extract_dates_from_text(text_from_file)\n",
    "\n",
    "print(\"Extracted dates:\")\n",
    "print(dates_list)"
   ]
  },
  {
   "cell_type": "markdown",
   "id": "dcb4a429",
   "metadata": {},
   "source": [
    "### Question 30"
   ]
  },
  {
   "cell_type": "code",
   "execution_count": 67,
   "id": "05fdfed0",
   "metadata": {},
   "outputs": [
    {
     "name": "stdout",
     "output_type": "stream",
     "text": [
      "Modified Text:\n",
      "Python:Exercises::PHP:exercises:\n"
     ]
    }
   ],
   "source": [
    "import re\n",
    "\n",
    "def replacement(input_text):\n",
    "    pattern = r'[ ,.]'\n",
    "    result = re.sub(pattern, ':', input_text)\n",
    "    return result\n",
    "\n",
    "sample_text = 'Python Exercises, PHP exercises.'\n",
    "\n",
    "modified_text = replacement(sample_text)\n",
    "\n",
    "print(\"Modified Text:\")\n",
    "print(modified_text)"
   ]
  },
  {
   "cell_type": "code",
   "execution_count": null,
   "id": "47e5685e",
   "metadata": {},
   "outputs": [],
   "source": []
  }
 ],
 "metadata": {
  "kernelspec": {
   "display_name": "Python 3",
   "language": "python",
   "name": "python3"
  },
  "language_info": {
   "codemirror_mode": {
    "name": "ipython",
    "version": 3
   },
   "file_extension": ".py",
   "mimetype": "text/x-python",
   "name": "python",
   "nbconvert_exporter": "python",
   "pygments_lexer": "ipython3",
   "version": "3.8.8"
  }
 },
 "nbformat": 4,
 "nbformat_minor": 5
}
